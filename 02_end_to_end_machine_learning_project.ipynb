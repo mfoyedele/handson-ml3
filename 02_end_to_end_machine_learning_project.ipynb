{
 "cells": [
  {
   "cell_type": "markdown",
   "id": "a2263694-3355-4439-855a-ac615920b66b",
   "metadata": {},
   "source": [
    "**End-to-end Machine Learning project**"
   ]
  },
  {
   "cell_type": "code",
   "execution_count": 3,
   "id": "b46ff008-aff1-49b8-ab31-0a3a237f3226",
   "metadata": {},
   "outputs": [
    {
     "name": "stdout",
     "output_type": "stream",
     "text": [
      "Welcome to Machine Learning!\n"
     ]
    }
   ],
   "source": [
    "print(\"Welcome to Machine Learning!\")"
   ]
  },
  {
   "cell_type": "code",
   "execution_count": 5,
   "id": "3e50f906-c4e7-474f-8fc4-3d45432f2c43",
   "metadata": {},
   "outputs": [],
   "source": [
    "import sys\n",
    "\n",
    "assert sys.version_info >= (3, 7)\n"
   ]
  },
  {
   "cell_type": "code",
   "execution_count": 7,
   "id": "462858bc-1438-41db-9cd1-9814348adca1",
   "metadata": {},
   "outputs": [],
   "source": [
    "from packaging import version\n",
    "import sklearn\n",
    "\n",
    "assert version.parse(sklearn.__version__) >= version.parse(\"1.0.1\")"
   ]
  },
  {
   "cell_type": "markdown",
   "id": "ad1ed387-f98d-49a0-b51f-8e46b6131c9f",
   "metadata": {},
   "source": [
    "# 1. Get the Data"
   ]
  },
  {
   "cell_type": "markdown",
   "id": "8598fe96-4646-41ca-8405-212bbf0fafb0",
   "metadata": {},
   "source": [
    "*Welcome to Machine Learning Housing Corp.! Your task is to predict median house values in Californian districts, given a number of features from these districts.*"
   ]
  },
  {
   "cell_type": "markdown",
   "id": "1130f953-c177-45a6-9512-babdde48917f",
   "metadata": {},
   "source": [
    "## Downloadn the Data"
   ]
  },
  {
   "cell_type": "code",
   "execution_count": 17,
   "id": "172639cf-4613-42a5-b077-3a503a8581b9",
   "metadata": {},
   "outputs": [],
   "source": [
    "from pathlib import Path\n",
    "import pandas as pd\n",
    "import tarfile\n",
    "import urllib.request\n",
    "\n",
    "def load_housing_data():\n",
    "    tarball_path = Path(\"datasets/housing.tgz\")\n",
    "    if not tarball_path.is_file():\n",
    "        Path(\"datasets\").mkdir(parents=True, exist_ok=True)\n",
    "        url = \"https://github.com/ageron/data/raw/main/housing.tgz\"\n",
    "        urllib.request.urlretrieve(url, tarball_path)\n",
    "        with tarfile.open(tarball_path) as housing_tarball:\n",
    "            housing_tarball.extractall(path=\"datasets\")\n",
    "    return pd.read_csv(Path(\"datasets/housing/housing.csv\"))\n",
    "\n",
    "housing = load_housing_data()"
   ]
  },
  {
   "cell_type": "markdown",
   "id": "41e31580-ed7b-4219-9f1d-e6fdbcb1d2ae",
   "metadata": {},
   "source": [
    "## Take a Quick Look at the Data Structure"
   ]
  },
  {
   "cell_type": "code",
   "execution_count": null,
   "id": "76c4f5b8-d26b-4d09-a6c1-de5e428ba24d",
   "metadata": {},
   "outputs": [],
   "source": []
  }
 ],
 "metadata": {
  "kernelspec": {
   "display_name": "Python 3 (ipykernel)",
   "language": "python",
   "name": "python3"
  },
  "language_info": {
   "codemirror_mode": {
    "name": "ipython",
    "version": 3
   },
   "file_extension": ".py",
   "mimetype": "text/x-python",
   "name": "python",
   "nbconvert_exporter": "python",
   "pygments_lexer": "ipython3",
   "version": "3.10.16"
  }
 },
 "nbformat": 4,
 "nbformat_minor": 5
}
